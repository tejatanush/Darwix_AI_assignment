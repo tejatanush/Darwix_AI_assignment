{
 "cells": [
  {
   "cell_type": "code",
   "execution_count": 1,
   "id": "9655e1cb",
   "metadata": {},
   "outputs": [],
   "source": [
    "import os\n",
    "from dotenv import load_dotenv\n",
    "from langchain_core.prompts import PromptTemplate\n",
    "from langchain_groq import ChatGroq\n",
    "from langchain_core.output_parsers import StrOutputParser\n",
    "\n",
    "\n",
    "\n",
    "\n"
   ]
  },
  {
   "cell_type": "code",
   "execution_count": 2,
   "id": "2a74b133",
   "metadata": {},
   "outputs": [],
   "source": [
    "# Load environment variables\n",
    "load_dotenv()\n",
    "groq_api_key = os.getenv(\"GROQ_API_KEY\")"
   ]
  },
  {
   "cell_type": "code",
   "execution_count": 3,
   "id": "31b75fb5",
   "metadata": {},
   "outputs": [],
   "source": [
    "# Initialize Groq model\n",
    "llm = ChatGroq(\n",
    "    model_name=\"llama-3.3-70b-versatile\",\n",
    "    api_key=groq_api_key\n",
    ")\n"
   ]
  },
  {
   "cell_type": "code",
   "execution_count": 4,
   "id": "45fb2ae8",
   "metadata": {},
   "outputs": [],
   "source": [
    "prompt = PromptTemplate.from_template(\"\"\"\n",
    "You are a helpful assistant. Given the content of a blog post, generate 3 creative and catchy blog post titles.\n",
    "\n",
    "Blog Content:\n",
    "{blog_content}\n",
    "\n",
    "Return only the 3 titles, each on a new line.\n",
    "\"\"\")"
   ]
  },
  {
   "cell_type": "code",
   "execution_count": 5,
   "id": "41adac1b",
   "metadata": {},
   "outputs": [],
   "source": [
    "chain = prompt | llm | StrOutputParser()"
   ]
  },
  {
   "cell_type": "code",
   "execution_count": 7,
   "id": "4ee0b054",
   "metadata": {},
   "outputs": [
    {
     "name": "stdout",
     "output_type": "stream",
     "text": [
      "\n",
      "Suggested Blog Titles:\n",
      "1. Revolutionizing the Future: How AI is Transforming Industries\n",
      "2. The AI Advantage: Unlocking Productivity and Innovation\n",
      "3. Rise of the Machines: How AI is Redefining the World of Work\n"
     ]
    }
   ],
   "source": [
    "blog_content = \"\"\"\n",
    "Artificial Intelligence (AI) is revolutionizing industries across the globe. From healthcare to finance, AI algorithms \n",
    "are helping automate tasks, generate insights, and improve decision-making. One of the biggest advantages of AI is its \n",
    "ability to analyze vast amounts of data at unprecedented speeds. This has led to a surge in productivity and innovation \n",
    "in fields like robotics, autonomous systems, and natural language processing.\n",
    "\"\"\"\n",
    "\n",
    "# Invoke the chain\n",
    "response = chain.invoke({\"blog_content\": blog_content})\n",
    "\n",
    "# Display the results\n",
    "titles = response.strip().split(\"\\n\")\n",
    "print(\"\\nSuggested Blog Titles:\")\n",
    "for idx, title in enumerate(titles, 1):\n",
    "    print(f\"{idx}. {title}\")"
   ]
  }
 ],
 "metadata": {
  "kernelspec": {
   "display_name": "assignment",
   "language": "python",
   "name": "python3"
  },
  "language_info": {
   "codemirror_mode": {
    "name": "ipython",
    "version": 3
   },
   "file_extension": ".py",
   "mimetype": "text/x-python",
   "name": "python",
   "nbconvert_exporter": "python",
   "pygments_lexer": "ipython3",
   "version": "3.10.18"
  }
 },
 "nbformat": 4,
 "nbformat_minor": 5
}
