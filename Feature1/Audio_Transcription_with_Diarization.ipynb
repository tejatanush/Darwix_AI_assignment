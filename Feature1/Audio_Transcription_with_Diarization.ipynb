{
  "cells": [
    {
      "cell_type": "code",
      "execution_count": null,
      "metadata": {
        "id": "m5Q4lRDE86Je"
      },
      "outputs": [],
      "source": [
        "import whisperx\n",
        "import json\n",
        "import torch\n",
        "import os\n",
        "from dotenv import load_dotenv\n",
        "from pyannote.audio import Pipeline\n"
      ]
    },
    {
      "cell_type": "code",
      "execution_count": null,
      "metadata": {},
      "outputs": [],
      "source": [
        "load_dotenv()\n",
        "SECRET_KEY = os.getenv(\"HF_KEY\")"
      ]
    },
    {
      "cell_type": "code",
      "execution_count": 8,
      "metadata": {
        "id": "ZtBS-SFz88oc"
      },
      "outputs": [],
      "source": [
        "audio_file2 = r\"C:\\Users\\tejat\\Desktop\\Assignment\\Feature1\\audio_file.wav\""
      ]
    },
    {
      "cell_type": "code",
      "execution_count": 4,
      "metadata": {
        "colab": {
          "base_uri": "https://localhost:8080/"
        },
        "id": "CoLHqDQf8-dB",
        "outputId": "99923860-c5d4-4fd4-d1fa-50bce4007ee1"
      },
      "outputs": [
        {
          "name": "stdout",
          "output_type": "stream",
          "text": [
            "No language specified, language will be first be detected for each audio file (increases inference time).\n",
            ">>Performing voice activity detection using Pyannote...\n"
          ]
        },
        {
          "name": "stderr",
          "output_type": "stream",
          "text": [
            "Lightning automatically upgraded your loaded checkpoint from v1.5.4 to v2.5.1.post0. To apply the upgrade to your files permanently, run `python -m pytorch_lightning.utilities.upgrade_checkpoint c:\\Users\\tejat\\anaconda3\\envs\\assignment\\lib\\site-packages\\whisperx\\assets\\pytorch_model.bin`\n"
          ]
        },
        {
          "name": "stdout",
          "output_type": "stream",
          "text": [
            "Model was trained with pyannote.audio 0.0.1, yours is 3.3.2. Bad things might happen unless you revert pyannote.audio to 0.x.\n",
            "Model was trained with torch 1.10.0+cu102, yours is 2.7.1+cpu. Bad things might happen unless you revert torch to 1.x.\n"
          ]
        }
      ],
      "source": [
        "device = \"cuda\" if torch.cuda.is_available() else \"cpu\"\n",
        "model = whisperx.load_model(\"medium\", device,compute_type=\"float32\")"
      ]
    },
    {
      "cell_type": "code",
      "execution_count": 9,
      "metadata": {
        "colab": {
          "base_uri": "https://localhost:8080/"
        },
        "id": "n6Nid91-9AFX",
        "outputId": "3313dc47-eff6-4d50-892c-95dd9f809aa4"
      },
      "outputs": [
        {
          "name": "stdout",
          "output_type": "stream",
          "text": [
            "Detected language: en (1.00) in first 30s of audio...\n"
          ]
        }
      ],
      "source": [
        "transcription_result = model.transcribe(audio_file2)"
      ]
    },
    {
      "cell_type": "code",
      "execution_count": 10,
      "metadata": {
        "id": "7EHCH52X9P0I"
      },
      "outputs": [
        {
          "name": "stdout",
          "output_type": "stream",
          "text": [
            "Downloading: \"https://download.pytorch.org/torchaudio/models/wav2vec2_fairseq_base_ls960_asr_ls960.pth\" to C:\\Users\\tejat/.cache\\torch\\hub\\checkpoints\\wav2vec2_fairseq_base_ls960_asr_ls960.pth\n"
          ]
        },
        {
          "name": "stderr",
          "output_type": "stream",
          "text": [
            "100%|██████████| 360M/360M [01:39<00:00, 3.78MB/s] \n"
          ]
        }
      ],
      "source": [
        "align_model, metadata = whisperx.load_align_model(language_code=transcription_result[\"language\"], device=device)\n",
        "transcription_result = whisperx.align(transcription_result[\"segments\"], align_model, metadata, audio_file2, device)"
      ]
    },
    {
      "cell_type": "code",
      "execution_count": null,
      "metadata": {
        "id": "qCS4Qe6a9Rz5"
      },
      "outputs": [
        {
          "name": "stderr",
          "output_type": "stream",
          "text": [
            "c:\\Users\\tejat\\anaconda3\\envs\\assignment\\lib\\site-packages\\pyannote\\audio\\models\\blocks\\pooling.py:104: UserWarning: std(): degrees of freedom is <= 0. Correction should be strictly less than the reduction factor (input numel divided by output numel). (Triggered internally at C:\\actions-runner\\_work\\pytorch\\pytorch\\pytorch\\aten\\src\\ATen\\native\\ReduceOps.cpp:1839.)\n",
            "  std = sequences.std(dim=-1, correction=1)\n"
          ]
        }
      ],
      "source": [
        "pipeline = Pipeline.from_pretrained(\n",
        "  \"pyannote/speaker-diarization-3.1\",\n",
        "  use_auth_token=SECRET_KEY)\n",
        "diarization = pipeline(r\"audio_file.wav\", num_speakers=3)"
      ]
    },
    {
      "cell_type": "code",
      "execution_count": null,
      "metadata": {},
      "outputs": [],
      "source": [
        "def assign_speakers_to_segments(transcription_segments, diarization_result):\n",
        "    result = []\n",
        "    for segment in transcription_segments:\n",
        "        segment_start = segment['start']\n",
        "        segment_end = segment['end']\n",
        "        segment_text = segment['text']\n",
        "        speaker = None\n",
        "        max_overlap = 0\n",
        "        for turn, _, speaker_label in diarization_result.itertracks(yield_label=True):\n",
        "            overlap_start = max(segment_start, turn.start)\n",
        "            overlap_end = min(segment_end, turn.end)\n",
        "            overlap_duration = max(0, overlap_end - overlap_start)\n",
        "            if overlap_duration > max_overlap:\n",
        "                max_overlap = overlap_duration\n",
        "                speaker = speaker_label\n",
        "        result.append({\n",
        "            \"speaker\": speaker,\n",
        "            \"text\": segment_text.strip(),\n",
        "            \"start\": segment_start,\n",
        "            \"end\": segment_end\n",
        "        })\n",
        "    return result\n",
        "\n"
      ]
    },
    {
      "cell_type": "code",
      "execution_count": null,
      "metadata": {},
      "outputs": [
        {
          "name": "stdout",
          "output_type": "stream",
          "text": [
            "[\n",
            "  {\n",
            "    \"speaker\": \"SPEAKER_02\",\n",
            "    \"text\": \"Good afternoon, Professor Nelson.\",\n",
            "    \"start\": 0.554,\n",
            "    \"end\": 2.616\n",
            "  },\n",
            "  {\n",
            "    \"speaker\": \"SPEAKER_02\",\n",
            "    \"text\": \"How are you doing?\",\n",
            "    \"start\": 2.776,\n",
            "    \"end\": 3.557\n",
            "  },\n",
            "  {\n",
            "    \"speaker\": \"SPEAKER_00\",\n",
            "    \"text\": \"Good afternoon, Jennifer.\",\n",
            "    \"start\": 4.858,\n",
            "    \"end\": 6.34\n",
            "  },\n",
            "  {\n",
            "    \"speaker\": \"SPEAKER_00\",\n",
            "    \"text\": \"I am doing well, and you?\",\n",
            "    \"start\": 6.66,\n",
            "    \"end\": 8.141\n",
            "  },\n",
            "  {\n",
            "    \"speaker\": \"SPEAKER_02\",\n",
            "    \"text\": \"I'm great, thank you.\",\n",
            "    \"start\": 8.161,\n",
            "    \"end\": 11.064\n",
            "  },\n",
            "  {\n",
            "    \"speaker\": \"SPEAKER_02\",\n",
            "    \"text\": \"This is my friend Lucy.\",\n",
            "    \"start\": 11.565,\n",
            "    \"end\": 12.886\n",
            "  },\n",
            "  {\n",
            "    \"speaker\": \"SPEAKER_02\",\n",
            "    \"text\": \"She is thinking about applying to this college.\",\n",
            "    \"start\": 13.627,\n",
            "    \"end\": 15.849\n",
            "  },\n",
            "  {\n",
            "    \"speaker\": \"SPEAKER_02\",\n",
            "    \"text\": \"She has a few questions.\",\n",
            "    \"start\": 16.369,\n",
            "    \"end\": 17.751\n",
            "  },\n",
            "  {\n",
            "    \"speaker\": \"SPEAKER_02\",\n",
            "    \"text\": \"Would you mind telling us about the process, please?\",\n",
            "    \"start\": 18.251,\n",
            "    \"end\": 20.794\n",
            "  },\n",
            "  {\n",
            "    \"speaker\": \"SPEAKER_00\",\n",
            "    \"text\": \"Hello, Lucy.\",\n",
            "    \"start\": 21.755,\n",
            "    \"end\": 22.756\n",
            "  },\n",
            "  {\n",
            "    \"speaker\": \"SPEAKER_00\",\n",
            "    \"text\": \"It's a pleasure to meet you.\",\n",
            "    \"start\": 22.796,\n",
            "    \"end\": 24.297\n",
            "  },\n",
            "  {\n",
            "    \"speaker\": \"SPEAKER_00\",\n",
            "    \"text\": \"I'm more than happy to speak with you.\",\n",
            "    \"start\": 24.337,\n",
            "    \"end\": 26.519\n",
            "  },\n",
            "  {\n",
            "    \"speaker\": \"SPEAKER_00\",\n",
            "    \"text\": \"Please stop by my office next week.\",\n",
            "    \"start\": 27.04,\n",
            "    \"end\": 29.262\n",
            "  },\n",
            "  {\n",
            "    \"speaker\": \"SPEAKER_01\",\n",
            "    \"text\": \"It's a pleasure to meet you, Professor.\",\n",
            "    \"start\": 29.512,\n",
            "    \"end\": 31.379\n",
            "  },\n",
            "  {\n",
            "    \"speaker\": \"SPEAKER_01\",\n",
            "    \"text\": \"Thank you so much for helping us.\",\n",
            "    \"start\": 31.439,\n",
            "    \"end\": 33.547\n",
            "  },\n",
            "  {\n",
            "    \"speaker\": \"SPEAKER_00\",\n",
            "    \"text\": \"Don't mention it.\",\n",
            "    \"start\": 34.451,\n",
            "    \"end\": 35.234\n",
            "  },\n",
            "  {\n",
            "    \"speaker\": \"SPEAKER_00\",\n",
            "    \"text\": \"Hopefully, I will be able to answer your questions.\",\n",
            "    \"start\": 35.555,\n",
            "    \"end\": 38.205\n",
            "  }\n",
            "]\n"
          ]
        }
      ],
      "source": [
        "\n",
        "final_result = assign_speakers_to_segments(transcription_result[\"segments\"], diarization)\n",
        "output_json = json.dumps(final_result, indent=2, ensure_ascii=False)\n",
        "print(output_json)"
      ]
    }
  ],
  "metadata": {
    "accelerator": "GPU",
    "colab": {
      "gpuType": "T4",
      "provenance": []
    },
    "kernelspec": {
      "display_name": "assignment",
      "language": "python",
      "name": "python3"
    },
    "language_info": {
      "codemirror_mode": {
        "name": "ipython",
        "version": 3
      },
      "file_extension": ".py",
      "mimetype": "text/x-python",
      "name": "python",
      "nbconvert_exporter": "python",
      "pygments_lexer": "ipython3",
      "version": "3.10.18"
    }
  },
  "nbformat": 4,
  "nbformat_minor": 0
}
